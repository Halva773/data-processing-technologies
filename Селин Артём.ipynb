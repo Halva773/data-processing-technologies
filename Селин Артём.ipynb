{
 "cells": [
  {
   "cell_type": "code",
   "execution_count": 1,
   "id": "fb0b82b3",
   "metadata": {},
   "outputs": [],
   "source": [
    "from bs4 import BeautifulSoup as bs"
   ]
  },
  {
   "cell_type": "code",
   "execution_count": 32,
   "id": "354a1720",
   "metadata": {},
   "outputs": [
    {
     "name": "stdout",
     "output_type": "stream",
     "text": [
      "['Эконометрика', 'Теория игр', 'Теория финансово-экономических систем массового обслуживания', 'Математические методы риск-менеджмента', 'Имитационное моделирование', 'Сетевое моделирование и задачи управления запасами', 'Методы анализа фондового рынка', 'Моделирование ценообразования на финансовых рынках', 'Экономико-математическое моделирование логистики', 'Учебная практика', 'Производственная практика', 'Практикум на ЭВМ']\n"
     ]
    }
   ],
   "source": [
    "def load_xml(file_path: str):\n",
    "    \"\"\"\n",
    "    Функция считывает и возвращает xml файл\n",
    "    \n",
    "    file_path: str\n",
    "    \"\"\"\n",
    "    with open(file_path, encoding='UTF-8') as f:\n",
    "        data = bs(f, 'xml')\n",
    "    return data\n",
    "\n",
    "def check_disciplines(data, department: str) -> list:\n",
    "    \"\"\"\n",
    "    Возвращает список дисциплин, которая ведёт кафедра\n",
    "    \n",
    "    data: bs4.Beautifulsoup\n",
    "    department: str\n",
    "    \"\"\"\n",
    "    result = []\n",
    "    disciplines = data.find_all('дисциплина')\n",
    "    for discipline in disciplines:\n",
    "        if discipline.has_attr('кафедра') and department in discipline['кафедра']:\n",
    "            result.append(discipline['название'])\n",
    "    return result\n",
    "\n",
    "data = load_xml('data/_up_2020_pmi.xml')\n",
    "print(check_disciplines(data, 'МЭиИС'))"
   ]
  },
  {
   "cell_type": "code",
   "execution_count": null,
   "id": "3ca81d4b",
   "metadata": {},
   "outputs": [],
   "source": []
  }
 ],
 "metadata": {
  "kernelspec": {
   "display_name": "Python 3 (ipykernel)",
   "language": "python",
   "name": "python3"
  },
  "language_info": {
   "codemirror_mode": {
    "name": "ipython",
    "version": 3
   },
   "file_extension": ".py",
   "mimetype": "text/x-python",
   "name": "python",
   "nbconvert_exporter": "python",
   "pygments_lexer": "ipython3",
   "version": "3.11.5"
  }
 },
 "nbformat": 4,
 "nbformat_minor": 5
}
